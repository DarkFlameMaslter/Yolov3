{
 "cells": [
  {
   "cell_type": "code",
   "execution_count": 1,
   "id": "f086c04f",
   "metadata": {},
   "outputs": [],
   "source": [
    "import cv2 as cv\n",
    "import numpy as np\n",
    "import matplotlib.pyplot as plt"
   ]
  },
  {
   "cell_type": "code",
   "execution_count": 5,
   "id": "384e87f1",
   "metadata": {},
   "outputs": [],
   "source": [
    "import torch\n",
    "import torch.nn as nn"
   ]
  },
  {
   "cell_type": "code",
   "execution_count": null,
   "id": "203bcf2f",
   "metadata": {},
   "outputs": [],
   "source": [
    "#darknet + Yolo\n",
    "config = [\n",
    "    (32, 3, 1),  #(filter, size x size, repeat)\n",
    "    (64, 3, 2),\n",
    "    [\"B\", 1],    #one time residual block\n",
    "    (128, 3, 2), #single convolutional layer\n",
    "    [\"B\", 2],    #two time residual block...\n",
    "    (256, 3, 2),\n",
    "    [\"B\", 8],\n",
    "    (512, 3, 2),\n",
    "    [\"B\", 8],\n",
    "    (1024, 3, 2),\n",
    "    [\"B\", 4],  # To this point is Darknet-53\n",
    "    (512, 1, 1),\n",
    "    (1024, 3, 1),\n",
    "    \"S\",        #82\n",
    "    (256, 1, 1),\n",
    "    \"U\",\n",
    "    (256, 1, 1),\n",
    "    (512, 3, 1),\n",
    "    \"S\",        #94\n",
    "    (128, 1, 1),\n",
    "    \"U\",\n",
    "    (128, 1, 1),\n",
    "    (256, 3, 1),\n",
    "    \"S\",        #106\n",
    "]"
   ]
  },
  {
   "cell_type": "code",
   "execution_count": 11,
   "id": "8019cf3c",
   "metadata": {},
   "outputs": [],
   "source": [
    "#CNN Block\n",
    "class CNNBlock(nn.Module):\n",
    "    def __init__(self, in_channels, out_channels, BatchNorm_ActiveFunc=True, **kwargs):\n",
    "        super().__init__()\n",
    "        self.conv = nn.Conv2d(in_channels, out_channels, bias = not bn_act, **kwargs)\n",
    "        self.BatchNorm_ActiveFunc = nn.BatchNorm2d(out_channels) #?\n",
    "        self.leaky = nn.LeakyReLU(0.1)\n",
    "        self.use_BatchNorm_ActiveFunc = BatchNorm_ActiveFunc #?\n",
    "\n",
    "    def forward(self, x):\n",
    "        if(self.use_bn_act):\n",
    "            return self.leaky(self.bn(self.conv(x)))\n",
    "        else: \n",
    "            return self.conv(x)\n",
    "    \n",
    "\n",
    "# bn_act is if the block using Batch_Normalization function an an activation-function, true by default\n",
    "# **kwargs just to enable the act to pass some more variable to the function\n",
    "\n",
    "# if we use Batch_Normalization as an activation function, then the bias will not be used.\n",
    "\n",
    "# Caution: the Negative Slope of LeakyReLU set to 0.1. that mean, when the input down below 0, then the output will be neg-Slope x Input\n",
    "# ----------------------------------------------------------------------------\n",
    "# if we use bn as an active function then, we caculate leakyReLu of Batch Normalization of output channel of conv\n",
    "\n",
    "# else, just convlutional\n"
   ]
  },
  {
   "cell_type": "code",
   "execution_count": null,
   "id": "907f8e26",
   "metadata": {},
   "outputs": [],
   "source": [
    "#Residual Block\n",
    "class ResidualBlock(nn.Module):\n",
    "    def __init__(self, channels, use_residual=True, num_repeats=1):\n",
    "        super().__init__()\n",
    "        self.layer = nn.ModuleList()\n",
    "        for repeat in range (num_repeats):\n",
    "            sefl.layer += [\n",
    "                nn.Sequential(\n",
    "                    CNNBlock(channels, channels//2, kernel_size = 1),\n",
    "                    CNNBlock(channels //2, channels, kernel_size = 3, padding = 1)\n",
    "                )\n",
    "            ]\n",
    "        self.use_residual = use_residual\n",
    "        self.num_repeats = num_repeats\n",
    "        \n",
    "    def forward(self, x):\n",
    "        for layer in self.layers:\n",
    "            if self.use_residual:\n",
    "                x = x + layer(x)\n",
    "            else:\n",
    "                x = layer(x)\n",
    "\n",
    "        return x\n",
    "\n",
    "\n",
    "# CNN block with\n",
    "# input channel is 3 as normal is RGB\n",
    "# then the output is just 1? Why?\n",
    "\n",
    "# if the kernel size is 3 and padding is 1 then output.shape is equal to input.shape\n",
    "\n",
    "# this residual block is seted up as optional  if it need or not\n",
    "\n",
    "# if we use residual block then:\n",
    "\n",
    "# residual + input\n",
    "# layer(x) +   x\n",
    "# = output\n",
    "\n",
    "# if not, then output = residual\n"
   ]
  },
  {
   "cell_type": "code",
   "execution_count": null,
   "id": "f144aad2",
   "metadata": {},
   "outputs": [],
   "source": [
    "#Scale Prediction\n",
    "class ScalePrediction(nn.Module):\n",
    "    def __init__(self, in_channels, num_classes):\n",
    "        super().__init__()\n",
    "        self.pred = nn.Sequential(\n",
    "            CNNBlock(in_channels, 2 * in_channels, kernel_size=3, padding=1),\n",
    "            CNNBlock( 2 * in_channels, 3 * (5 + num_classes), BatchNorm_ActiveFunc=False, kernel_size=1 )\n",
    "            )\n",
    "        self.num_classes = num_classes\n",
    "\n",
    "    def forward(self, x):\n",
    "        return (\n",
    "            self.pred(x)\n",
    "            .reshape(x.shape[0], 3, self.num_classes + 5, x.shape[2], x.shape[3])\n",
    "            .permute(0, 1, 3, 4, 2)\n",
    "        )\n",
    "    \n",
    "# nn.sequential is the order of the function inside it that will run in order as coded\n",
    "# but the notion here is: the output of the previous is the input of the next one\n",
    "    \n",
    "    \n",
    "# permute is just change the order of dimentional-layers \n",
    "# the output will depend on the order 1,2,3,...0"
   ]
  },
  {
   "cell_type": "code",
   "execution_count": null,
   "id": "228ba9b7",
   "metadata": {},
   "outputs": [],
   "source": [
    "#Yolo ver3\n",
    "class YOLOOv3(nn.Module):\n",
    "    pass"
   ]
  },
  {
   "cell_type": "code",
   "execution_count": 12,
   "id": "052fdd60",
   "metadata": {},
   "outputs": [
    {
     "name": "stdout",
     "output_type": "stream",
     "text": [
      "1\n"
     ]
    }
   ],
   "source": [
    "c=3\n",
    "print (c//2)"
   ]
  }
 ],
 "metadata": {
  "kernelspec": {
   "display_name": "Python 3",
   "language": "python",
   "name": "python3"
  },
  "language_info": {
   "codemirror_mode": {
    "name": "ipython",
    "version": 3
   },
   "file_extension": ".py",
   "mimetype": "text/x-python",
   "name": "python",
   "nbconvert_exporter": "python",
   "pygments_lexer": "ipython3",
   "version": "3.8.8"
  }
 },
 "nbformat": 4,
 "nbformat_minor": 5
}
